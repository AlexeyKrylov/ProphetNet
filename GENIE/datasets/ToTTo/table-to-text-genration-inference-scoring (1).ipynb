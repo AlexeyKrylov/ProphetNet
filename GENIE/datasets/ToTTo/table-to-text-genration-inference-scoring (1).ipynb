{
 "cells": [
  {
   "cell_type": "code",
   "execution_count": 93,
   "id": "160a0c29",
   "metadata": {
    "execution": {
     "iopub.execute_input": "2021-08-23T15:38:31.685172Z",
     "iopub.status.busy": "2021-08-23T15:38:31.684680Z",
     "iopub.status.idle": "2021-08-23T15:38:31.808906Z",
     "shell.execute_reply": "2021-08-23T15:38:31.808171Z",
     "shell.execute_reply.started": "2021-08-23T15:23:58.465024Z"
    },
    "executionInfo": {
     "elapsed": 71447,
     "status": "ok",
     "timestamp": 1619773218560,
     "user": {
      "displayName": "Aishik Rakshit",
      "photoUrl": "https://lh3.googleusercontent.com/a-/AOh14Gj51jIPTS5SPRR4YiqMU00JQ0UuzUavXBl9dsaRDw=s64",
      "userId": "15122983906308089605"
     },
     "user_tz": -330
    },
    "id": "V-ZMFQpvp96r",
    "papermill": {
     "duration": 0.154306,
     "end_time": "2021-08-23T15:38:31.809052",
     "exception": false,
     "start_time": "2021-08-23T15:38:31.654746",
     "status": "completed"
    },
    "tags": []
   },
   "outputs": [],
   "source": [
    "import pandas as pd\n",
    "import jsonlines"
   ]
  },
  {
   "cell_type": "code",
   "execution_count": 94,
   "id": "a55ea823",
   "metadata": {
    "execution": {
     "iopub.execute_input": "2021-08-23T15:38:31.925700Z",
     "iopub.status.busy": "2021-08-23T15:38:31.924922Z",
     "iopub.status.idle": "2021-08-23T15:38:31.929038Z",
     "shell.execute_reply": "2021-08-23T15:38:31.929466Z",
     "shell.execute_reply.started": "2021-08-23T15:23:58.582562Z"
    },
    "papermill": {
     "duration": 0.10132,
     "end_time": "2021-08-23T15:38:31.929609",
     "exception": false,
     "start_time": "2021-08-23T15:38:31.828289",
     "status": "completed"
    },
    "tags": []
   },
   "outputs": [],
   "source": [
    "with jsonlines.open('C:/Users/krilo/PycharmProjects/ProphetNet/GENIE/GENIE/datasets/ToTTo/valid.jsonl') as f:\n",
    "    df = pd.DataFrame([line for line in f.iter()])"
   ]
  },
  {
   "cell_type": "code",
   "execution_count": 95,
   "id": "8f2dadf8",
   "metadata": {
    "execution": {
     "iopub.execute_input": "2021-08-23T15:38:31.972154Z",
     "iopub.status.busy": "2021-08-23T15:38:31.971470Z",
     "iopub.status.idle": "2021-08-23T15:38:31.973758Z",
     "shell.execute_reply": "2021-08-23T15:38:31.974116Z",
     "shell.execute_reply.started": "2021-08-23T15:23:58.591505Z"
    },
    "executionInfo": {
     "elapsed": 71444,
     "status": "ok",
     "timestamp": 1619773218561,
     "user": {
      "displayName": "Aishik Rakshit",
      "photoUrl": "https://lh3.googleusercontent.com/a-/AOh14Gj51jIPTS5SPRR4YiqMU00JQ0UuzUavXBl9dsaRDw=s64",
      "userId": "15122983906308089605"
     },
     "user_tz": -330
    },
    "id": "-iNCX7X0R3j3",
    "papermill": {
     "duration": 0.025148,
     "end_time": "2021-08-23T15:38:31.974281",
     "exception": false,
     "start_time": "2021-08-23T15:38:31.949133",
     "status": "completed"
    },
    "tags": []
   },
   "outputs": [],
   "source": [
    "MAXLENI=512\n",
    "MAXLENO=128"
   ]
  },
  {
   "cell_type": "code",
   "execution_count": 96,
   "id": "3f3038cf",
   "metadata": {
    "execution": {
     "iopub.execute_input": "2021-08-23T15:38:32.019386Z",
     "iopub.status.busy": "2021-08-23T15:38:32.018768Z",
     "iopub.status.idle": "2021-08-23T15:38:37.819048Z",
     "shell.execute_reply": "2021-08-23T15:38:37.818141Z",
     "shell.execute_reply.started": "2021-08-23T15:23:58.601863Z"
    },
    "executionInfo": {
     "elapsed": 78366,
     "status": "ok",
     "timestamp": 1619773225487,
     "user": {
      "displayName": "Aishik Rakshit",
      "photoUrl": "https://lh3.googleusercontent.com/a-/AOh14Gj51jIPTS5SPRR4YiqMU00JQ0UuzUavXBl9dsaRDw=s64",
      "userId": "15122983906308089605"
     },
     "user_tz": -330
    },
    "id": "S3g3I7iaqh8-",
    "papermill": {
     "duration": 5.825391,
     "end_time": "2021-08-23T15:38:37.819193",
     "exception": false,
     "start_time": "2021-08-23T15:38:31.993802",
     "status": "completed"
    },
    "tags": []
   },
   "outputs": [],
   "source": [
    "from transformers import T5TokenizerFast\n",
    "from transformers import T5ForConditionalGeneration\n",
    "from transformers import AdamW, WarmUp, get_linear_schedule_with_warmup\n",
    "from tqdm.notebook import tqdm\n",
    "import pandas as pd\n",
    "import torch\n",
    "from torch.utils.data import Dataset, DataLoader\n",
    "import os\n",
    "import time\n",
    "import copy\n",
    "import numpy\n",
    "import matplotlib.pyplot as plt"
   ]
  },
  {
   "cell_type": "code",
   "execution_count": 97,
   "id": "2301edc8",
   "metadata": {
    "execution": {
     "iopub.execute_input": "2021-08-23T15:38:37.912056Z",
     "iopub.status.busy": "2021-08-23T15:38:37.911460Z",
     "iopub.status.idle": "2021-08-23T15:38:37.915781Z",
     "shell.execute_reply": "2021-08-23T15:38:37.916323Z",
     "shell.execute_reply.started": "2021-08-23T15:23:58.610899Z"
    },
    "papermill": {
     "duration": 0.077504,
     "end_time": "2021-08-23T15:38:37.916500",
     "exception": false,
     "start_time": "2021-08-23T15:38:37.838996",
     "status": "completed"
    },
    "tags": []
   },
   "outputs": [
    {
     "name": "stdout",
     "output_type": "stream",
     "text": [
      "cuda\n"
     ]
    }
   ],
   "source": [
    "device=torch.device(\"cuda\" if torch.cuda.is_available() else \"cpu\")\n",
    "print(device)"
   ]
  },
  {
   "cell_type": "code",
   "execution_count": 98,
   "id": "dd756b89",
   "metadata": {
    "execution": {
     "iopub.execute_input": "2021-08-23T15:38:37.961802Z",
     "iopub.status.busy": "2021-08-23T15:38:37.961063Z",
     "iopub.status.idle": "2021-08-23T15:38:58.153587Z",
     "shell.execute_reply": "2021-08-23T15:38:58.153068Z",
     "shell.execute_reply.started": "2021-08-23T15:23:58.624149Z"
    },
    "executionInfo": {
     "elapsed": 120508,
     "status": "ok",
     "timestamp": 1619773267634,
     "user": {
      "displayName": "Aishik Rakshit",
      "photoUrl": "https://lh3.googleusercontent.com/a-/AOh14Gj51jIPTS5SPRR4YiqMU00JQ0UuzUavXBl9dsaRDw=s64",
      "userId": "15122983906308089605"
     },
     "user_tz": -330
    },
    "id": "CjalEnb2ptQd",
    "outputId": "777408b1-3095-4292-b13e-7d98f968c082",
    "papermill": {
     "duration": 20.216659,
     "end_time": "2021-08-23T15:38:58.153727",
     "exception": false,
     "start_time": "2021-08-23T15:38:37.937068",
     "status": "completed"
    },
    "tags": []
   },
   "outputs": [
    {
     "name": "stderr",
     "output_type": "stream",
     "text": [
      "C:\\Users\\krilo\\anaconda3\\envs\\DiffuSeq_env\\lib\\site-packages\\transformers\\models\\t5\\tokenization_t5_fast.py:156: FutureWarning: This tokenizer was incorrectly instantiated with a model max length of 512 which will be corrected in Transformers v5.\n",
      "For now, this behavior is kept to avoid breaking backwards compatibility when padding/encoding with `truncation is True`.\n",
      "- Be aware that you SHOULD NOT rely on t5-base automatically truncating your input to 512 when padding/encoding.\n",
      "- If you want to encode/pad to sequences longer than 512 you can either instantiate this tokenizer with `model_max_length` or pass `max_length` when encoding/padding.\n",
      "- To avoid this warning, please instantiate this tokenizer with `model_max_length` set to your preferred value.\n",
      "  warnings.warn(\n"
     ]
    },
    {
     "data": {
      "text/plain": [
       "<All keys matched successfully>"
      ]
     },
     "execution_count": 98,
     "metadata": {},
     "output_type": "execute_result"
    }
   ],
   "source": [
    "tokenizer = T5TokenizerFast.from_pretrained(\"t5-base\")\n",
    "# model=torch.load(\"C:/Users/krilo/PycharmProjects/ProphetNet/GENIE/GENIE/datasets/ToTTo/T5Epoch%3A21\", map_location=device)\n",
    "# model.encoder.resize_token_embeddings(32128)\n",
    "# model.decoder.resize_token_embeddings(32128)\n",
    "state_dict = torch.load(\"C:/Users/krilo/PycharmProjects/Lattice/totto_data/outputs/checkpoint-150000/pytorch_model.bin\")\n",
    "model.load_state_dict(state_dict)"
   ]
  },
  {
   "cell_type": "code",
   "execution_count": 99,
   "id": "aa1f84aa",
   "metadata": {
    "execution": {
     "iopub.execute_input": "2021-08-23T15:38:58.201774Z",
     "iopub.status.busy": "2021-08-23T15:38:58.201197Z",
     "iopub.status.idle": "2021-08-23T15:38:58.208716Z",
     "shell.execute_reply": "2021-08-23T15:38:58.208274Z",
     "shell.execute_reply.started": "2021-08-23T15:24:01.104694Z"
    },
    "executionInfo": {
     "elapsed": 121253,
     "status": "ok",
     "timestamp": 1619773268387,
     "user": {
      "displayName": "Aishik Rakshit",
      "photoUrl": "https://lh3.googleusercontent.com/a-/AOh14Gj51jIPTS5SPRR4YiqMU00JQ0UuzUavXBl9dsaRDw=s64",
      "userId": "15122983906308089605"
     },
     "user_tz": -330
    },
    "id": "mn0t_4NFOftQ",
    "outputId": "3bc1daf2-fef0-46f0-e46c-260920bece14",
    "papermill": {
     "duration": 0.034353,
     "end_time": "2021-08-23T15:38:58.208834",
     "exception": false,
     "start_time": "2021-08-23T15:38:58.174481",
     "status": "completed"
    },
    "tags": []
   },
   "outputs": [],
   "source": [
    "# special_tokens_dict = {'pad_token': '<pad>', 'bos_token': '<bos>', 'eos_token': '<eos>', \n",
    "#                        'additional_special_tokens': ['<PAGESTART>', '<PAGEEND>', '<SECTIONSTART>', '<SECTIONEND>',\n",
    "#                                                      '<TABLESTART>','<TABLEEND>','<CELLSTART>','<CELLEND>','<COLHEADERSTART>',\n",
    "#                                                      '<COLHEADEREND>','<ROWHEADERSTART>','<ROWHEADEREND>']}\n",
    "\n",
    "# num_added_toks = tokenizer.add_special_tokens(special_tokens_dict)\n",
    "\n",
    "# print('We have added', num_added_toks, 'tokens')\n",
    "# model.encoder.resize_token_embeddings(len(tokenizer))\n",
    "# model.decoder.resize_token_embeddings(len(tokenizer))"
   ]
  },
  {
   "cell_type": "code",
   "execution_count": 100,
   "id": "f1b3c158",
   "metadata": {
    "execution": {
     "iopub.execute_input": "2021-08-23T15:38:58.261867Z",
     "iopub.status.busy": "2021-08-23T15:38:58.260617Z",
     "iopub.status.idle": "2021-08-23T15:38:58.263314Z",
     "shell.execute_reply": "2021-08-23T15:38:58.262897Z",
     "shell.execute_reply.started": "2021-08-23T15:24:01.118249Z"
    },
    "executionInfo": {
     "elapsed": 121248,
     "status": "ok",
     "timestamp": 1619773268387,
     "user": {
      "displayName": "Aishik Rakshit",
      "photoUrl": "https://lh3.googleusercontent.com/a-/AOh14Gj51jIPTS5SPRR4YiqMU00JQ0UuzUavXBl9dsaRDw=s64",
      "userId": "15122983906308089605"
     },
     "user_tz": -330
    },
    "id": "WxHdZMxluF0I",
    "papermill": {
     "duration": 0.033816,
     "end_time": "2021-08-23T15:38:58.263418",
     "exception": false,
     "start_time": "2021-08-23T15:38:58.229602",
     "status": "completed"
    },
    "tags": []
   },
   "outputs": [],
   "source": [
    "class tottodataset(Dataset):\n",
    "  def __init__(self,df,tokenizer):\n",
    "    self.sentence=df['trg']\n",
    "    self.table=df['src']\n",
    "    self.tokenizer=tokenizer\n",
    "\n",
    "  def __len__(self):\n",
    "    return len(self.sentence)\n",
    "  \n",
    "  def __getitem__(self,idx):\n",
    "    inp=(self.table[idx])\n",
    "#     .replace(\"<page_title>\", \"<PAGESTART>\").replace(\"</page_title>\", \"<PAGEEND>\") \\\n",
    "#                                     .replace(\"<section_title>\", \"<SECTIONSTART>\").replace(\"</section_title>\", \"<SECTIONEND>\") \\\n",
    "#                                     .replace(\"<table>\", \"<TABLESTART>\").replace(\"</table>\", \"<TABLEEND>\") \\\n",
    "#                                     .replace(\"<cell>\", \"<CELLSTART>\").replace(\"</cell>\", \"<CELLEND>\") \\\n",
    "#                                     .replace(\"<col_header>\", \"<COLHEADERSTART>\").replace(\"</col_header>\", \"<COLHEADEREND>\") \\\n",
    "#                                     .replace(\"<row_header>\", \"<ROWHEADERSTART>\").replace(\"</row_header>\", \"<ROWHEADEREND>\")\n",
    "    out=self.sentence[idx]\n",
    "    inp_tokens=self.tokenizer.encode_plus(inp, padding=\"max_length\", max_length=MAXLENI, truncation=True)\n",
    "    out_tokens=self.tokenizer.encode_plus(out, padding=\"max_length\", max_length=MAXLENO, truncation=True)\n",
    "    inp_id=inp_tokens.input_ids\n",
    "    out_id=out_tokens.input_ids\n",
    "    inp_mask=inp_tokens.attention_mask\n",
    "    out_mask=out_tokens.attention_mask\n",
    "    labels=out_tokens.input_ids.copy()\n",
    "    labels=[-100  if x==self.tokenizer.pad_token_id else x for x in labels]\n",
    "\n",
    "    return {\n",
    "        \"table_text\":inp,\n",
    "        \"sentence\":out,\n",
    "        \"input_ids\":torch.tensor(inp_id, dtype=torch.long),\n",
    "        \"input_attention_mask\":torch.tensor(inp_mask, dtype=torch.long),\n",
    "        \"decoder_input_ids\":torch.tensor(out_id, dtype=torch.long),\n",
    "        \"decoder_attention_mask\":torch.tensor(out_mask, dtype=torch.long),\n",
    "        \"labels\":torch.tensor(labels, dtype=torch.long)\n",
    "    }"
   ]
  },
  {
   "cell_type": "code",
   "execution_count": 101,
   "id": "f6ce7939",
   "metadata": {
    "execution": {
     "iopub.execute_input": "2021-08-23T15:38:58.316614Z",
     "iopub.status.busy": "2021-08-23T15:38:58.315393Z",
     "iopub.status.idle": "2021-08-23T15:38:58.317682Z",
     "shell.execute_reply": "2021-08-23T15:38:58.318078Z",
     "shell.execute_reply.started": "2021-08-23T15:24:01.134191Z"
    },
    "executionInfo": {
     "elapsed": 121240,
     "status": "ok",
     "timestamp": 1619773268388,
     "user": {
      "displayName": "Aishik Rakshit",
      "photoUrl": "https://lh3.googleusercontent.com/a-/AOh14Gj51jIPTS5SPRR4YiqMU00JQ0UuzUavXBl9dsaRDw=s64",
      "userId": "15122983906308089605"
     },
     "user_tz": -330
    },
    "id": "S7YQPF5joFU2",
    "papermill": {
     "duration": 0.034191,
     "end_time": "2021-08-23T15:38:58.318191",
     "exception": false,
     "start_time": "2021-08-23T15:38:58.284000",
     "status": "completed"
    },
    "tags": []
   },
   "outputs": [],
   "source": [
    "test_dataset=tottodataset(df,tokenizer)\n",
    "\n",
    "test_dataloader=DataLoader(test_dataset,\n",
    "                            batch_size=8,\n",
    "                            num_workers=0,\n",
    "                            shuffle=False)"
   ]
  },
  {
   "cell_type": "code",
   "execution_count": 102,
   "id": "e64ca284",
   "metadata": {
    "execution": {
     "iopub.execute_input": "2021-08-23T15:38:58.364905Z",
     "iopub.status.busy": "2021-08-23T15:38:58.363612Z",
     "iopub.status.idle": "2021-08-23T15:38:58.384050Z",
     "shell.execute_reply": "2021-08-23T15:38:58.384459Z",
     "shell.execute_reply.started": "2021-08-23T15:24:01.148249Z"
    },
    "executionInfo": {
     "elapsed": 121226,
     "status": "ok",
     "timestamp": 1619773268390,
     "user": {
      "displayName": "Aishik Rakshit",
      "photoUrl": "https://lh3.googleusercontent.com/a-/AOh14Gj51jIPTS5SPRR4YiqMU00JQ0UuzUavXBl9dsaRDw=s64",
      "userId": "15122983906308089605"
     },
     "user_tz": -330
    },
    "id": "tJYgCj14gX8E",
    "outputId": "e1888448-0338-4c3b-d2a2-5aa02509e84c",
    "papermill": {
     "duration": 0.045653,
     "end_time": "2021-08-23T15:38:58.384574",
     "exception": false,
     "start_time": "2021-08-23T15:38:58.338921",
     "status": "completed"
    },
    "tags": []
   },
   "outputs": [
    {
     "data": {
      "text/plain": [
       "T5ForConditionalGeneration(\n",
       "  (shared): Embedding(32128, 512)\n",
       "  (encoder): T5Stack(\n",
       "    (embed_tokens): Embedding(32128, 512)\n",
       "    (block): ModuleList(\n",
       "      (0): T5Block(\n",
       "        (layer): ModuleList(\n",
       "          (0): T5LayerSelfAttention(\n",
       "            (SelfAttention): T5Attention(\n",
       "              (q): Linear(in_features=512, out_features=512, bias=False)\n",
       "              (k): Linear(in_features=512, out_features=512, bias=False)\n",
       "              (v): Linear(in_features=512, out_features=512, bias=False)\n",
       "              (o): Linear(in_features=512, out_features=512, bias=False)\n",
       "              (relative_attention_bias): Embedding(32, 8)\n",
       "            )\n",
       "            (layer_norm): T5LayerNorm()\n",
       "            (dropout): Dropout(p=0.1, inplace=False)\n",
       "          )\n",
       "          (1): T5LayerFF(\n",
       "            (DenseReluDense): T5DenseActDense(\n",
       "              (wi): Linear(in_features=512, out_features=2048, bias=False)\n",
       "              (wo): Linear(in_features=2048, out_features=512, bias=False)\n",
       "              (dropout): Dropout(p=0.1, inplace=False)\n",
       "              (act): ReLU()\n",
       "            )\n",
       "            (layer_norm): T5LayerNorm()\n",
       "            (dropout): Dropout(p=0.1, inplace=False)\n",
       "          )\n",
       "        )\n",
       "      )\n",
       "      (1-5): 5 x T5Block(\n",
       "        (layer): ModuleList(\n",
       "          (0): T5LayerSelfAttention(\n",
       "            (SelfAttention): T5Attention(\n",
       "              (q): Linear(in_features=512, out_features=512, bias=False)\n",
       "              (k): Linear(in_features=512, out_features=512, bias=False)\n",
       "              (v): Linear(in_features=512, out_features=512, bias=False)\n",
       "              (o): Linear(in_features=512, out_features=512, bias=False)\n",
       "            )\n",
       "            (layer_norm): T5LayerNorm()\n",
       "            (dropout): Dropout(p=0.1, inplace=False)\n",
       "          )\n",
       "          (1): T5LayerFF(\n",
       "            (DenseReluDense): T5DenseActDense(\n",
       "              (wi): Linear(in_features=512, out_features=2048, bias=False)\n",
       "              (wo): Linear(in_features=2048, out_features=512, bias=False)\n",
       "              (dropout): Dropout(p=0.1, inplace=False)\n",
       "              (act): ReLU()\n",
       "            )\n",
       "            (layer_norm): T5LayerNorm()\n",
       "            (dropout): Dropout(p=0.1, inplace=False)\n",
       "          )\n",
       "        )\n",
       "      )\n",
       "    )\n",
       "    (final_layer_norm): T5LayerNorm()\n",
       "    (dropout): Dropout(p=0.1, inplace=False)\n",
       "  )\n",
       "  (decoder): T5Stack(\n",
       "    (embed_tokens): Embedding(32128, 512)\n",
       "    (block): ModuleList(\n",
       "      (0): T5Block(\n",
       "        (layer): ModuleList(\n",
       "          (0): T5LayerSelfAttention(\n",
       "            (SelfAttention): T5Attention(\n",
       "              (q): Linear(in_features=512, out_features=512, bias=False)\n",
       "              (k): Linear(in_features=512, out_features=512, bias=False)\n",
       "              (v): Linear(in_features=512, out_features=512, bias=False)\n",
       "              (o): Linear(in_features=512, out_features=512, bias=False)\n",
       "              (relative_attention_bias): Embedding(32, 8)\n",
       "            )\n",
       "            (layer_norm): T5LayerNorm()\n",
       "            (dropout): Dropout(p=0.1, inplace=False)\n",
       "          )\n",
       "          (1): T5LayerCrossAttention(\n",
       "            (EncDecAttention): T5Attention(\n",
       "              (q): Linear(in_features=512, out_features=512, bias=False)\n",
       "              (k): Linear(in_features=512, out_features=512, bias=False)\n",
       "              (v): Linear(in_features=512, out_features=512, bias=False)\n",
       "              (o): Linear(in_features=512, out_features=512, bias=False)\n",
       "            )\n",
       "            (layer_norm): T5LayerNorm()\n",
       "            (dropout): Dropout(p=0.1, inplace=False)\n",
       "          )\n",
       "          (2): T5LayerFF(\n",
       "            (DenseReluDense): T5DenseActDense(\n",
       "              (wi): Linear(in_features=512, out_features=2048, bias=False)\n",
       "              (wo): Linear(in_features=2048, out_features=512, bias=False)\n",
       "              (dropout): Dropout(p=0.1, inplace=False)\n",
       "              (act): ReLU()\n",
       "            )\n",
       "            (layer_norm): T5LayerNorm()\n",
       "            (dropout): Dropout(p=0.1, inplace=False)\n",
       "          )\n",
       "        )\n",
       "      )\n",
       "      (1-5): 5 x T5Block(\n",
       "        (layer): ModuleList(\n",
       "          (0): T5LayerSelfAttention(\n",
       "            (SelfAttention): T5Attention(\n",
       "              (q): Linear(in_features=512, out_features=512, bias=False)\n",
       "              (k): Linear(in_features=512, out_features=512, bias=False)\n",
       "              (v): Linear(in_features=512, out_features=512, bias=False)\n",
       "              (o): Linear(in_features=512, out_features=512, bias=False)\n",
       "            )\n",
       "            (layer_norm): T5LayerNorm()\n",
       "            (dropout): Dropout(p=0.1, inplace=False)\n",
       "          )\n",
       "          (1): T5LayerCrossAttention(\n",
       "            (EncDecAttention): T5Attention(\n",
       "              (q): Linear(in_features=512, out_features=512, bias=False)\n",
       "              (k): Linear(in_features=512, out_features=512, bias=False)\n",
       "              (v): Linear(in_features=512, out_features=512, bias=False)\n",
       "              (o): Linear(in_features=512, out_features=512, bias=False)\n",
       "            )\n",
       "            (layer_norm): T5LayerNorm()\n",
       "            (dropout): Dropout(p=0.1, inplace=False)\n",
       "          )\n",
       "          (2): T5LayerFF(\n",
       "            (DenseReluDense): T5DenseActDense(\n",
       "              (wi): Linear(in_features=512, out_features=2048, bias=False)\n",
       "              (wo): Linear(in_features=2048, out_features=512, bias=False)\n",
       "              (dropout): Dropout(p=0.1, inplace=False)\n",
       "              (act): ReLU()\n",
       "            )\n",
       "            (layer_norm): T5LayerNorm()\n",
       "            (dropout): Dropout(p=0.1, inplace=False)\n",
       "          )\n",
       "        )\n",
       "      )\n",
       "    )\n",
       "    (final_layer_norm): T5LayerNorm()\n",
       "    (dropout): Dropout(p=0.1, inplace=False)\n",
       "  )\n",
       "  (lm_head): Linear(in_features=512, out_features=32128, bias=False)\n",
       ")"
      ]
     },
     "execution_count": 102,
     "metadata": {},
     "output_type": "execute_result"
    }
   ],
   "source": [
    "model.to(device)"
   ]
  },
  {
   "cell_type": "code",
   "execution_count": 103,
   "id": "8d922283",
   "metadata": {
    "execution": {
     "iopub.execute_input": "2021-08-23T15:38:58.432033Z",
     "iopub.status.busy": "2021-08-23T15:38:58.431542Z",
     "iopub.status.idle": "2021-08-23T15:38:59.137652Z",
     "shell.execute_reply": "2021-08-23T15:38:59.138426Z",
     "shell.execute_reply.started": "2021-08-23T15:24:01.173503Z"
    },
    "executionInfo": {
     "elapsed": 121217,
     "status": "ok",
     "timestamp": 1619773268390,
     "user": {
      "displayName": "Aishik Rakshit",
      "photoUrl": "https://lh3.googleusercontent.com/a-/AOh14Gj51jIPTS5SPRR4YiqMU00JQ0UuzUavXBl9dsaRDw=s64",
      "userId": "15122983906308089605"
     },
     "user_tz": -330
    },
    "id": "MBTbrmY5H1fV",
    "outputId": "6b936e74-730e-4762-ff1f-134ae050b1d1",
    "papermill": {
     "duration": 0.731866,
     "end_time": "2021-08-23T15:38:59.138593",
     "exception": false,
     "start_time": "2021-08-23T15:38:58.406727",
     "status": "completed"
    },
    "tags": []
   },
   "outputs": [
    {
     "name": "stdout",
     "output_type": "stream",
     "text": [
      "Sat Mar  2 16:52:16 2024       \n",
      "+-----------------------------------------------------------------------------+\n",
      "| NVIDIA-SMI 511.65       Driver Version: 511.65       CUDA Version: 11.6     |\n",
      "|-------------------------------+----------------------+----------------------+\n",
      "| GPU  Name            TCC/WDDM | Bus-Id        Disp.A | Volatile Uncorr. ECC |\n",
      "| Fan  Temp  Perf  Pwr:Usage/Cap|         Memory-Usage | GPU-Util  Compute M. |\n",
      "|                               |                      |               MIG M. |\n",
      "|===============================+======================+======================|\n",
      "|   0  NVIDIA GeForce ... WDDM  | 00000000:01:00.0 Off |                  N/A |\n",
      "| N/A   35C    P8    11W /  N/A |   2732MiB /  6144MiB |     33%      Default |\n",
      "|                               |                      |                  N/A |\n",
      "+-------------------------------+----------------------+----------------------+\n",
      "                                                                               \n",
      "+-----------------------------------------------------------------------------+\n",
      "| Processes:                                                                  |\n",
      "|  GPU   GI   CI        PID   Type   Process name                  GPU Memory |\n",
      "|        ID   ID                                                   Usage      |\n",
      "|=============================================================================|\n",
      "|    0   N/A  N/A     14436      C   ...s\\DiffuSeq_env\\python.exe    N/A      |\n",
      "+-----------------------------------------------------------------------------+\n"
     ]
    }
   ],
   "source": [
    "!nvidia-smi"
   ]
  },
  {
   "cell_type": "code",
   "execution_count": 104,
   "id": "8b4f4ae2",
   "metadata": {
    "execution": {
     "iopub.execute_input": "2021-08-23T15:38:59.190860Z",
     "iopub.status.busy": "2021-08-23T15:38:59.190242Z",
     "iopub.status.idle": "2021-08-23T15:38:59.243424Z",
     "shell.execute_reply": "2021-08-23T15:38:59.244363Z",
     "shell.execute_reply.started": "2021-08-23T15:24:02.008852Z"
    },
    "papermill": {
     "duration": 0.082944,
     "end_time": "2021-08-23T15:38:59.244555",
     "exception": false,
     "start_time": "2021-08-23T15:38:59.161611",
     "status": "completed"
    },
    "tags": []
   },
   "outputs": [],
   "source": [
    "test_iterator=iter(test_dataloader)"
   ]
  },
  {
   "cell_type": "code",
   "execution_count": 105,
   "id": "a7388f59",
   "metadata": {
    "execution": {
     "iopub.execute_input": "2021-08-23T15:38:59.391635Z",
     "iopub.status.busy": "2021-08-23T15:38:59.390878Z",
     "iopub.status.idle": "2021-08-23T15:39:00.300319Z",
     "shell.execute_reply": "2021-08-23T15:39:00.298965Z",
     "shell.execute_reply.started": "2021-08-23T15:24:02.222298Z"
    },
    "papermill": {
     "duration": 0.987227,
     "end_time": "2021-08-23T15:39:00.300508",
     "exception": false,
     "start_time": "2021-08-23T15:38:59.313281",
     "status": "completed"
    },
    "tags": []
   },
   "outputs": [],
   "source": [
    "test_batch=next(test_iterator)"
   ]
  },
  {
   "cell_type": "code",
   "execution_count": 106,
   "id": "18a2c639",
   "metadata": {
    "execution": {
     "iopub.execute_input": "2021-08-23T15:39:00.448740Z",
     "iopub.status.busy": "2021-08-23T15:39:00.447494Z",
     "iopub.status.idle": "2021-08-23T15:39:03.051146Z",
     "shell.execute_reply": "2021-08-23T15:39:03.050689Z",
     "shell.execute_reply.started": "2021-08-23T15:24:03.102317Z"
    },
    "executionInfo": {
     "elapsed": 157340,
     "status": "ok",
     "timestamp": 1619773304540,
     "user": {
      "displayName": "Aishik Rakshit",
      "photoUrl": "https://lh3.googleusercontent.com/a-/AOh14Gj51jIPTS5SPRR4YiqMU00JQ0UuzUavXBl9dsaRDw=s64",
      "userId": "15122983906308089605"
     },
     "user_tz": -330
    },
    "id": "WN9DuhwxkrSN",
    "papermill": {
     "duration": 2.682172,
     "end_time": "2021-08-23T15:39:03.051404",
     "exception": false,
     "start_time": "2021-08-23T15:39:00.369232",
     "status": "completed"
    },
    "tags": []
   },
   "outputs": [],
   "source": [
    "generation_output = model.generate(test_batch['input_ids'].to(device), max_length=128, return_dict_in_generate=True, output_scores=True)"
   ]
  },
  {
   "cell_type": "code",
   "execution_count": 107,
   "id": "a0879e97",
   "metadata": {
    "execution": {
     "iopub.execute_input": "2021-08-23T15:39:03.161634Z",
     "iopub.status.busy": "2021-08-23T15:39:03.160391Z",
     "iopub.status.idle": "2021-08-23T15:39:03.163108Z",
     "shell.execute_reply": "2021-08-23T15:39:03.162726Z",
     "shell.execute_reply.started": "2021-08-23T15:24:04.683756Z"
    },
    "executionInfo": {
     "elapsed": 157336,
     "status": "ok",
     "timestamp": 1619773304541,
     "user": {
      "displayName": "Aishik Rakshit",
      "photoUrl": "https://lh3.googleusercontent.com/a-/AOh14Gj51jIPTS5SPRR4YiqMU00JQ0UuzUavXBl9dsaRDw=s64",
      "userId": "15122983906308089605"
     },
     "user_tz": -330
    },
    "id": "RPRk1up_mlzW",
    "papermill": {
     "duration": 0.031251,
     "end_time": "2021-08-23T15:39:03.163260",
     "exception": false,
     "start_time": "2021-08-23T15:39:03.132009",
     "status": "completed"
    },
    "tags": []
   },
   "outputs": [],
   "source": [
    "expected=test_batch[\"sentence\"][0]\n",
    "predicted=tokenizer.decode(generation_output[\"sequences\"][0], skip_special_tokens=True)"
   ]
  },
  {
   "cell_type": "code",
   "execution_count": 108,
   "id": "06832f4b",
   "metadata": {
    "execution": {
     "iopub.execute_input": "2021-08-23T15:39:03.215112Z",
     "iopub.status.busy": "2021-08-23T15:39:03.214576Z",
     "iopub.status.idle": "2021-08-23T15:39:03.219172Z",
     "shell.execute_reply": "2021-08-23T15:39:03.219715Z",
     "shell.execute_reply.started": "2021-08-23T15:24:04.697104Z"
    },
    "executionInfo": {
     "elapsed": 157332,
     "status": "ok",
     "timestamp": 1619773304541,
     "user": {
      "displayName": "Aishik Rakshit",
      "photoUrl": "https://lh3.googleusercontent.com/a-/AOh14Gj51jIPTS5SPRR4YiqMU00JQ0UuzUavXBl9dsaRDw=s64",
      "userId": "15122983906308089605"
     },
     "user_tz": -330
    },
    "id": "4ymtj_OJwgKh",
    "outputId": "a4f35011-15cc-4275-b15e-50504dc7dab9",
    "papermill": {
     "duration": 0.032539,
     "end_time": "2021-08-23T15:39:03.219880",
     "exception": false,
     "start_time": "2021-08-23T15:39:03.187341",
     "status": "completed"
    },
    "tags": []
   },
   "outputs": [
    {
     "name": "stdout",
     "output_type": "stream",
     "text": [
      "Expected Sentence: Daniel Henry Chamberlain was the 76th Governor of South Carolina from 1874.\n",
      "Predicted Sentence: Daniel Henry Chamberlain was the 76th Governor of South Carolina from 1874.\n"
     ]
    }
   ],
   "source": [
    "print(f\"Expected Sentence: {expected}\")\n",
    "print(f\"Predicted Sentence: {predicted}\")"
   ]
  },
  {
   "cell_type": "code",
   "execution_count": 109,
   "id": "7c5c1a59",
   "metadata": {
    "execution": {
     "iopub.execute_input": "2021-08-23T15:39:03.287015Z",
     "iopub.status.busy": "2021-08-23T15:39:03.270502Z",
     "iopub.status.idle": "2021-08-23T15:39:03.964816Z",
     "shell.execute_reply": "2021-08-23T15:39:03.964334Z",
     "shell.execute_reply.started": "2021-08-23T15:24:04.707336Z"
    },
    "executionInfo": {
     "elapsed": 157327,
     "status": "ok",
     "timestamp": 1619773304542,
     "user": {
      "displayName": "Aishik Rakshit",
      "photoUrl": "https://lh3.googleusercontent.com/a-/AOh14Gj51jIPTS5SPRR4YiqMU00JQ0UuzUavXBl9dsaRDw=s64",
      "userId": "15122983906308089605"
     },
     "user_tz": -330
    },
    "id": "HZJKQbhrxMh7",
    "outputId": "351d15b5-0647-4e77-9d69-6d3da1355615",
    "papermill": {
     "duration": 0.721344,
     "end_time": "2021-08-23T15:39:03.964936",
     "exception": false,
     "start_time": "2021-08-23T15:39:03.243592",
     "status": "completed"
    },
    "tags": []
   },
   "outputs": [
    {
     "name": "stdout",
     "output_type": "stream",
     "text": [
      "Sat Mar  2 16:52:17 2024       \n",
      "+-----------------------------------------------------------------------------+\n",
      "| NVIDIA-SMI 511.65       Driver Version: 511.65       CUDA Version: 11.6     |\n",
      "|-------------------------------+----------------------+----------------------+\n",
      "| GPU  Name            TCC/WDDM | Bus-Id        Disp.A | Volatile Uncorr. ECC |\n",
      "| Fan  Temp  Perf  Pwr:Usage/Cap|         Memory-Usage | GPU-Util  Compute M. |\n",
      "|                               |                      |               MIG M. |\n",
      "|===============================+======================+======================|\n",
      "|   0  NVIDIA GeForce ... WDDM  | 00000000:01:00.0 Off |                  N/A |\n",
      "| N/A   37C    P0    30W /  N/A |   2796MiB /  6144MiB |     30%      Default |\n",
      "|                               |                      |                  N/A |\n",
      "+-------------------------------+----------------------+----------------------+\n",
      "                                                                               \n",
      "+-----------------------------------------------------------------------------+\n",
      "| Processes:                                                                  |\n",
      "|  GPU   GI   CI        PID   Type   Process name                  GPU Memory |\n",
      "|        ID   ID                                                   Usage      |\n",
      "|=============================================================================|\n",
      "|    0   N/A  N/A     14436      C   ...s\\DiffuSeq_env\\python.exe    N/A      |\n",
      "+-----------------------------------------------------------------------------+\n"
     ]
    }
   ],
   "source": [
    "!nvidia-smi"
   ]
  },
  {
   "cell_type": "code",
   "execution_count": 110,
   "id": "db491c25",
   "metadata": {
    "execution": {
     "iopub.execute_input": "2021-08-23T15:39:04.018500Z",
     "iopub.status.busy": "2021-08-23T15:39:04.017799Z",
     "iopub.status.idle": "2021-08-23T15:39:04.020921Z",
     "shell.execute_reply": "2021-08-23T15:39:04.020497Z",
     "shell.execute_reply.started": "2021-08-23T15:24:05.411633Z"
    },
    "executionInfo": {
     "elapsed": 157319,
     "status": "ok",
     "timestamp": 1619773304543,
     "user": {
      "displayName": "Aishik Rakshit",
      "photoUrl": "https://lh3.googleusercontent.com/a-/AOh14Gj51jIPTS5SPRR4YiqMU00JQ0UuzUavXBl9dsaRDw=s64",
      "userId": "15122983906308089605"
     },
     "user_tz": -330
    },
    "id": "TwXJV8SGPK1M",
    "papermill": {
     "duration": 0.030963,
     "end_time": "2021-08-23T15:39:04.021037",
     "exception": false,
     "start_time": "2021-08-23T15:39:03.990074",
     "status": "completed"
    },
    "tags": []
   },
   "outputs": [],
   "source": [
    "# bleurt_dataloader=DataLoader(test_dataset,\n",
    "#                             batch_size=1,\n",
    "#                             num_workers=2,\n",
    "#                             shuffle=False)"
   ]
  },
  {
   "cell_type": "code",
   "execution_count": 111,
   "id": "313d75fb",
   "metadata": {
    "execution": {
     "iopub.execute_input": "2021-08-23T15:39:04.079843Z",
     "iopub.status.busy": "2021-08-23T15:39:04.078881Z",
     "iopub.status.idle": "2021-08-23T15:42:18.195051Z",
     "shell.execute_reply": "2021-08-23T15:42:18.194144Z",
     "shell.execute_reply.started": "2021-08-23T15:24:05.419086Z"
    },
    "executionInfo": {
     "elapsed": 189299,
     "status": "ok",
     "timestamp": 1619773336534,
     "user": {
      "displayName": "Aishik Rakshit",
      "photoUrl": "https://lh3.googleusercontent.com/a-/AOh14Gj51jIPTS5SPRR4YiqMU00JQ0UuzUavXBl9dsaRDw=s64",
      "userId": "15122983906308089605"
     },
     "user_tz": -330
    },
    "id": "xGiruKrwM1lB",
    "papermill": {
     "duration": 194.14852,
     "end_time": "2021-08-23T15:42:18.195189",
     "exception": false,
     "start_time": "2021-08-23T15:39:04.046669",
     "status": "completed"
    },
    "tags": []
   },
   "outputs": [
    {
     "data": {
      "application/vnd.jupyter.widget-view+json": {
       "model_id": "e4883911134745d49d11428970242cec",
       "version_major": 2,
       "version_minor": 0
      },
      "text/plain": [
       "  0%|          | 0/963 [00:00<?, ?it/s]"
      ]
     },
     "metadata": {},
     "output_type": "display_data"
    }
   ],
   "source": [
    "from tqdm.notebook import tqdm\n",
    "\n",
    "fout = open('./outputs_new_lattice.txt', 'w+', encoding='utf8')\n",
    "\n",
    "output=[]\n",
    "corrects=[]\n",
    "\n",
    "for batch in tqdm(test_dataloader):\n",
    "    input_ids=batch[\"input_ids\"].to(device)\n",
    "    \n",
    "    outputs = model.generate(input_ids, return_dict_in_generate=True, output_scores=True, max_length=128)\n",
    "    for i in range(8):\n",
    "        try:\n",
    "            outputstring = tokenizer.decode(outputs[\"sequences\"][i], skip_special_tokens=True, clean_up_tokenization_spaces=True)\n",
    "\n",
    "            refstring=batch[\"sentence\"][i].replace('</s>',\"\")\n",
    "            output.append(outputstring)\n",
    "            corrects.append(refstring)\n",
    "\n",
    "            fout.write(outputstring[:-1]+'.\\n')\n",
    "        except:\n",
    "            pass\n",
    "\n",
    "fout.close()"
   ]
  },
  {
   "cell_type": "code",
   "execution_count": null,
   "id": "a093b14e",
   "metadata": {
    "id": "YvT_1qkWGwn5",
    "papermill": {
     "duration": 0.088906,
     "end_time": "2021-08-23T15:43:55.330986",
     "exception": false,
     "start_time": "2021-08-23T15:43:55.242080",
     "status": "completed"
    },
    "tags": []
   },
   "outputs": [],
   "source": []
  }
 ],
 "metadata": {
  "kernelspec": {
   "display_name": "Python 3 (ipykernel)",
   "language": "python",
   "name": "python3"
  },
  "language_info": {
   "codemirror_mode": {
    "name": "ipython",
    "version": 3
   },
   "file_extension": ".py",
   "mimetype": "text/x-python",
   "name": "python",
   "nbconvert_exporter": "python",
   "pygments_lexer": "ipython3",
   "version": "3.10.9"
  },
  "papermill": {
   "default_parameters": {},
   "duration": 332.716807,
   "end_time": "2021-08-23T15:43:57.850648",
   "environment_variables": {},
   "exception": null,
   "input_path": "__notebook__.ipynb",
   "output_path": "__notebook__.ipynb",
   "parameters": {},
   "start_time": "2021-08-23T15:38:25.133841",
   "version": "2.3.3"
  },
  "widgets": {
   "application/vnd.jupyter.widget-state+json": {
    "state": {
     "00a3030fc981420486c29e1f0a0c2a38": {
      "model_module": "@jupyter-widgets/controls",
      "model_module_version": "1.5.0",
      "model_name": "HTMLModel",
      "state": {
       "_dom_classes": [],
       "_model_module": "@jupyter-widgets/controls",
       "_model_module_version": "1.5.0",
       "_model_name": "HTMLModel",
       "_view_count": null,
       "_view_module": "@jupyter-widgets/controls",
       "_view_module_version": "1.5.0",
       "_view_name": "HTMLView",
       "description": "",
       "description_tooltip": null,
       "layout": "IPY_MODEL_b104fc53be58422aa9eb06a213f66056",
       "placeholder": "​",
       "style": "IPY_MODEL_4a1a764da48d441b85b2d3f892e68d0f",
       "value": " 1.39M/1.39M [00:00&lt;00:00, 3.94MB/s]"
      }
     },
     "00e872414a27455c9d38003410db1dc6": {
      "model_module": "@jupyter-widgets/controls",
      "model_module_version": "1.5.0",
      "model_name": "HBoxModel",
      "state": {
       "_dom_classes": [],
       "_model_module": "@jupyter-widgets/controls",
       "_model_module_version": "1.5.0",
       "_model_name": "HBoxModel",
       "_view_count": null,
       "_view_module": "@jupyter-widgets/controls",
       "_view_module_version": "1.5.0",
       "_view_name": "HBoxView",
       "box_style": "",
       "children": [
        "IPY_MODEL_bd2747b507a740e784b2b6ee566ac5b0",
        "IPY_MODEL_a3aa1ce3f53a42fb828713956364c05d",
        "IPY_MODEL_00a3030fc981420486c29e1f0a0c2a38"
       ],
       "layout": "IPY_MODEL_28243c4a90c5426f8cfed072fa3d24f7"
      }
     },
     "10c018c5ec734d7eabb7f7b255f02ec2": {
      "model_module": "@jupyter-widgets/base",
      "model_module_version": "1.2.0",
      "model_name": "LayoutModel",
      "state": {
       "_model_module": "@jupyter-widgets/base",
       "_model_module_version": "1.2.0",
       "_model_name": "LayoutModel",
       "_view_count": null,
       "_view_module": "@jupyter-widgets/base",
       "_view_module_version": "1.2.0",
       "_view_name": "LayoutView",
       "align_content": null,
       "align_items": null,
       "align_self": null,
       "border": null,
       "bottom": null,
       "display": null,
       "flex": null,
       "flex_flow": null,
       "grid_area": null,
       "grid_auto_columns": null,
       "grid_auto_flow": null,
       "grid_auto_rows": null,
       "grid_column": null,
       "grid_gap": null,
       "grid_row": null,
       "grid_template_areas": null,
       "grid_template_columns": null,
       "grid_template_rows": null,
       "height": null,
       "justify_content": null,
       "justify_items": null,
       "left": null,
       "margin": null,
       "max_height": null,
       "max_width": null,
       "min_height": null,
       "min_width": null,
       "object_fit": null,
       "object_position": null,
       "order": null,
       "overflow": null,
       "overflow_x": null,
       "overflow_y": null,
       "padding": null,
       "right": null,
       "top": null,
       "visibility": null,
       "width": null
      }
     },
     "10ce7adbc8d648fea6db8cc2cecfbb96": {
      "model_module": "@jupyter-widgets/base",
      "model_module_version": "1.2.0",
      "model_name": "LayoutModel",
      "state": {
       "_model_module": "@jupyter-widgets/base",
       "_model_module_version": "1.2.0",
       "_model_name": "LayoutModel",
       "_view_count": null,
       "_view_module": "@jupyter-widgets/base",
       "_view_module_version": "1.2.0",
       "_view_name": "LayoutView",
       "align_content": null,
       "align_items": null,
       "align_self": null,
       "border": null,
       "bottom": null,
       "display": null,
       "flex": null,
       "flex_flow": null,
       "grid_area": null,
       "grid_auto_columns": null,
       "grid_auto_flow": null,
       "grid_auto_rows": null,
       "grid_column": null,
       "grid_gap": null,
       "grid_row": null,
       "grid_template_areas": null,
       "grid_template_columns": null,
       "grid_template_rows": null,
       "height": null,
       "justify_content": null,
       "justify_items": null,
       "left": null,
       "margin": null,
       "max_height": null,
       "max_width": null,
       "min_height": null,
       "min_width": null,
       "object_fit": null,
       "object_position": null,
       "order": null,
       "overflow": null,
       "overflow_x": null,
       "overflow_y": null,
       "padding": null,
       "right": null,
       "top": null,
       "visibility": null,
       "width": null
      }
     },
     "1214ae53d76a49bbb8d31ab343bb4b44": {
      "model_module": "@jupyter-widgets/controls",
      "model_module_version": "1.5.0",
      "model_name": "DescriptionStyleModel",
      "state": {
       "_model_module": "@jupyter-widgets/controls",
       "_model_module_version": "1.5.0",
       "_model_name": "DescriptionStyleModel",
       "_view_count": null,
       "_view_module": "@jupyter-widgets/base",
       "_view_module_version": "1.2.0",
       "_view_name": "StyleView",
       "description_width": ""
      }
     },
     "17580c5a94f64a8fb6716a749ede4c17": {
      "model_module": "@jupyter-widgets/controls",
      "model_module_version": "1.5.0",
      "model_name": "HTMLModel",
      "state": {
       "_dom_classes": [],
       "_model_module": "@jupyter-widgets/controls",
       "_model_module_version": "1.5.0",
       "_model_name": "HTMLModel",
       "_view_count": null,
       "_view_module": "@jupyter-widgets/controls",
       "_view_module_version": "1.5.0",
       "_view_name": "HTMLView",
       "description": "",
       "description_tooltip": null,
       "layout": "IPY_MODEL_7b78ede7f4c84e98b9dd5c3e38c94746",
       "placeholder": "​",
       "style": "IPY_MODEL_4702e878b2a8451ab9f025c55778121c",
       "value": "100%"
      }
     },
     "28243c4a90c5426f8cfed072fa3d24f7": {
      "model_module": "@jupyter-widgets/base",
      "model_module_version": "1.2.0",
      "model_name": "LayoutModel",
      "state": {
       "_model_module": "@jupyter-widgets/base",
       "_model_module_version": "1.2.0",
       "_model_name": "LayoutModel",
       "_view_count": null,
       "_view_module": "@jupyter-widgets/base",
       "_view_module_version": "1.2.0",
       "_view_name": "LayoutView",
       "align_content": null,
       "align_items": null,
       "align_self": null,
       "border": null,
       "bottom": null,
       "display": null,
       "flex": null,
       "flex_flow": null,
       "grid_area": null,
       "grid_auto_columns": null,
       "grid_auto_flow": null,
       "grid_auto_rows": null,
       "grid_column": null,
       "grid_gap": null,
       "grid_row": null,
       "grid_template_areas": null,
       "grid_template_columns": null,
       "grid_template_rows": null,
       "height": null,
       "justify_content": null,
       "justify_items": null,
       "left": null,
       "margin": null,
       "max_height": null,
       "max_width": null,
       "min_height": null,
       "min_width": null,
       "object_fit": null,
       "object_position": null,
       "order": null,
       "overflow": null,
       "overflow_x": null,
       "overflow_y": null,
       "padding": null,
       "right": null,
       "top": null,
       "visibility": null,
       "width": null
      }
     },
     "351539aa363248f295f76567e6a12a74": {
      "model_module": "@jupyter-widgets/controls",
      "model_module_version": "1.5.0",
      "model_name": "HTMLModel",
      "state": {
       "_dom_classes": [],
       "_model_module": "@jupyter-widgets/controls",
       "_model_module_version": "1.5.0",
       "_model_name": "HTMLModel",
       "_view_count": null,
       "_view_module": "@jupyter-widgets/controls",
       "_view_module_version": "1.5.0",
       "_view_name": "HTMLView",
       "description": "",
       "description_tooltip": null,
       "layout": "IPY_MODEL_76f4137dc80b4f42b50696f7439f829b",
       "placeholder": "​",
       "style": "IPY_MODEL_fb999217f46f46f6b27c7e64b302b3ac",
       "value": "Downloading: 100%"
      }
     },
     "39f572952a3b438fba5074188ea41140": {
      "model_module": "@jupyter-widgets/controls",
      "model_module_version": "1.5.0",
      "model_name": "ProgressStyleModel",
      "state": {
       "_model_module": "@jupyter-widgets/controls",
       "_model_module_version": "1.5.0",
       "_model_name": "ProgressStyleModel",
       "_view_count": null,
       "_view_module": "@jupyter-widgets/base",
       "_view_module_version": "1.2.0",
       "_view_name": "StyleView",
       "bar_color": null,
       "description_width": ""
      }
     },
     "3ef36506b4bb4e329151ae81d63b3f80": {
      "model_module": "@jupyter-widgets/controls",
      "model_module_version": "1.5.0",
      "model_name": "FloatProgressModel",
      "state": {
       "_dom_classes": [],
       "_model_module": "@jupyter-widgets/controls",
       "_model_module_version": "1.5.0",
       "_model_name": "FloatProgressModel",
       "_view_count": null,
       "_view_module": "@jupyter-widgets/controls",
       "_view_module_version": "1.5.0",
       "_view_name": "ProgressView",
       "bar_style": "success",
       "description": "",
       "description_tooltip": null,
       "layout": "IPY_MODEL_10ce7adbc8d648fea6db8cc2cecfbb96",
       "max": 121,
       "min": 0,
       "orientation": "horizontal",
       "style": "IPY_MODEL_b9d14e7bfc92425ab03509c381a43c93",
       "value": 121
      }
     },
     "4702e878b2a8451ab9f025c55778121c": {
      "model_module": "@jupyter-widgets/controls",
      "model_module_version": "1.5.0",
      "model_name": "DescriptionStyleModel",
      "state": {
       "_model_module": "@jupyter-widgets/controls",
       "_model_module_version": "1.5.0",
       "_model_name": "DescriptionStyleModel",
       "_view_count": null,
       "_view_module": "@jupyter-widgets/base",
       "_view_module_version": "1.2.0",
       "_view_name": "StyleView",
       "description_width": ""
      }
     },
     "4a1a764da48d441b85b2d3f892e68d0f": {
      "model_module": "@jupyter-widgets/controls",
      "model_module_version": "1.5.0",
      "model_name": "DescriptionStyleModel",
      "state": {
       "_model_module": "@jupyter-widgets/controls",
       "_model_module_version": "1.5.0",
       "_model_name": "DescriptionStyleModel",
       "_view_count": null,
       "_view_module": "@jupyter-widgets/base",
       "_view_module_version": "1.2.0",
       "_view_name": "StyleView",
       "description_width": ""
      }
     },
     "4a47ab3a57d94fbea12843321bfc984a": {
      "model_module": "@jupyter-widgets/base",
      "model_module_version": "1.2.0",
      "model_name": "LayoutModel",
      "state": {
       "_model_module": "@jupyter-widgets/base",
       "_model_module_version": "1.2.0",
       "_model_name": "LayoutModel",
       "_view_count": null,
       "_view_module": "@jupyter-widgets/base",
       "_view_module_version": "1.2.0",
       "_view_name": "LayoutView",
       "align_content": null,
       "align_items": null,
       "align_self": null,
       "border": null,
       "bottom": null,
       "display": null,
       "flex": null,
       "flex_flow": null,
       "grid_area": null,
       "grid_auto_columns": null,
       "grid_auto_flow": null,
       "grid_auto_rows": null,
       "grid_column": null,
       "grid_gap": null,
       "grid_row": null,
       "grid_template_areas": null,
       "grid_template_columns": null,
       "grid_template_rows": null,
       "height": null,
       "justify_content": null,
       "justify_items": null,
       "left": null,
       "margin": null,
       "max_height": null,
       "max_width": null,
       "min_height": null,
       "min_width": null,
       "object_fit": null,
       "object_position": null,
       "order": null,
       "overflow": null,
       "overflow_x": null,
       "overflow_y": null,
       "padding": null,
       "right": null,
       "top": null,
       "visibility": null,
       "width": null
      }
     },
     "4c9ceae5341845c79b5ecef0564d8f07": {
      "model_module": "@jupyter-widgets/controls",
      "model_module_version": "1.5.0",
      "model_name": "HBoxModel",
      "state": {
       "_dom_classes": [],
       "_model_module": "@jupyter-widgets/controls",
       "_model_module_version": "1.5.0",
       "_model_name": "HBoxModel",
       "_view_count": null,
       "_view_module": "@jupyter-widgets/controls",
       "_view_module_version": "1.5.0",
       "_view_name": "HBoxView",
       "box_style": "",
       "children": [
        "IPY_MODEL_17580c5a94f64a8fb6716a749ede4c17",
        "IPY_MODEL_3ef36506b4bb4e329151ae81d63b3f80",
        "IPY_MODEL_9308af29794e45a9b829d6db49c0fcc7"
       ],
       "layout": "IPY_MODEL_f5a30e06ad5f43fa8e40a482e07cd215"
      }
     },
     "7062a32e4f37457f82a130704b577610": {
      "model_module": "@jupyter-widgets/base",
      "model_module_version": "1.2.0",
      "model_name": "LayoutModel",
      "state": {
       "_model_module": "@jupyter-widgets/base",
       "_model_module_version": "1.2.0",
       "_model_name": "LayoutModel",
       "_view_count": null,
       "_view_module": "@jupyter-widgets/base",
       "_view_module_version": "1.2.0",
       "_view_name": "LayoutView",
       "align_content": null,
       "align_items": null,
       "align_self": null,
       "border": null,
       "bottom": null,
       "display": null,
       "flex": null,
       "flex_flow": null,
       "grid_area": null,
       "grid_auto_columns": null,
       "grid_auto_flow": null,
       "grid_auto_rows": null,
       "grid_column": null,
       "grid_gap": null,
       "grid_row": null,
       "grid_template_areas": null,
       "grid_template_columns": null,
       "grid_template_rows": null,
       "height": null,
       "justify_content": null,
       "justify_items": null,
       "left": null,
       "margin": null,
       "max_height": null,
       "max_width": null,
       "min_height": null,
       "min_width": null,
       "object_fit": null,
       "object_position": null,
       "order": null,
       "overflow": null,
       "overflow_x": null,
       "overflow_y": null,
       "padding": null,
       "right": null,
       "top": null,
       "visibility": null,
       "width": null
      }
     },
     "76f4137dc80b4f42b50696f7439f829b": {
      "model_module": "@jupyter-widgets/base",
      "model_module_version": "1.2.0",
      "model_name": "LayoutModel",
      "state": {
       "_model_module": "@jupyter-widgets/base",
       "_model_module_version": "1.2.0",
       "_model_name": "LayoutModel",
       "_view_count": null,
       "_view_module": "@jupyter-widgets/base",
       "_view_module_version": "1.2.0",
       "_view_name": "LayoutView",
       "align_content": null,
       "align_items": null,
       "align_self": null,
       "border": null,
       "bottom": null,
       "display": null,
       "flex": null,
       "flex_flow": null,
       "grid_area": null,
       "grid_auto_columns": null,
       "grid_auto_flow": null,
       "grid_auto_rows": null,
       "grid_column": null,
       "grid_gap": null,
       "grid_row": null,
       "grid_template_areas": null,
       "grid_template_columns": null,
       "grid_template_rows": null,
       "height": null,
       "justify_content": null,
       "justify_items": null,
       "left": null,
       "margin": null,
       "max_height": null,
       "max_width": null,
       "min_height": null,
       "min_width": null,
       "object_fit": null,
       "object_position": null,
       "order": null,
       "overflow": null,
       "overflow_x": null,
       "overflow_y": null,
       "padding": null,
       "right": null,
       "top": null,
       "visibility": null,
       "width": null
      }
     },
     "7b78ede7f4c84e98b9dd5c3e38c94746": {
      "model_module": "@jupyter-widgets/base",
      "model_module_version": "1.2.0",
      "model_name": "LayoutModel",
      "state": {
       "_model_module": "@jupyter-widgets/base",
       "_model_module_version": "1.2.0",
       "_model_name": "LayoutModel",
       "_view_count": null,
       "_view_module": "@jupyter-widgets/base",
       "_view_module_version": "1.2.0",
       "_view_name": "LayoutView",
       "align_content": null,
       "align_items": null,
       "align_self": null,
       "border": null,
       "bottom": null,
       "display": null,
       "flex": null,
       "flex_flow": null,
       "grid_area": null,
       "grid_auto_columns": null,
       "grid_auto_flow": null,
       "grid_auto_rows": null,
       "grid_column": null,
       "grid_gap": null,
       "grid_row": null,
       "grid_template_areas": null,
       "grid_template_columns": null,
       "grid_template_rows": null,
       "height": null,
       "justify_content": null,
       "justify_items": null,
       "left": null,
       "margin": null,
       "max_height": null,
       "max_width": null,
       "min_height": null,
       "min_width": null,
       "object_fit": null,
       "object_position": null,
       "order": null,
       "overflow": null,
       "overflow_x": null,
       "overflow_y": null,
       "padding": null,
       "right": null,
       "top": null,
       "visibility": null,
       "width": null
      }
     },
     "7ce99b2fe40d441ebf49526f2ce22067": {
      "model_module": "@jupyter-widgets/controls",
      "model_module_version": "1.5.0",
      "model_name": "HTMLModel",
      "state": {
       "_dom_classes": [],
       "_model_module": "@jupyter-widgets/controls",
       "_model_module_version": "1.5.0",
       "_model_name": "HTMLModel",
       "_view_count": null,
       "_view_module": "@jupyter-widgets/controls",
       "_view_module_version": "1.5.0",
       "_view_name": "HTMLView",
       "description": "",
       "description_tooltip": null,
       "layout": "IPY_MODEL_b1ae536fb9b44c54b310a0153663e387",
       "placeholder": "​",
       "style": "IPY_MODEL_fd69f7b25aa741f2be4e563ea8fe5935",
       "value": " 792k/792k [00:00&lt;00:00, 1.59MB/s]"
      }
     },
     "898d690676ac4a9da5a57a9421442d0f": {
      "model_module": "@jupyter-widgets/controls",
      "model_module_version": "1.5.0",
      "model_name": "ProgressStyleModel",
      "state": {
       "_model_module": "@jupyter-widgets/controls",
       "_model_module_version": "1.5.0",
       "_model_name": "ProgressStyleModel",
       "_view_count": null,
       "_view_module": "@jupyter-widgets/base",
       "_view_module_version": "1.2.0",
       "_view_name": "StyleView",
       "bar_color": null,
       "description_width": ""
      }
     },
     "9308af29794e45a9b829d6db49c0fcc7": {
      "model_module": "@jupyter-widgets/controls",
      "model_module_version": "1.5.0",
      "model_name": "HTMLModel",
      "state": {
       "_dom_classes": [],
       "_model_module": "@jupyter-widgets/controls",
       "_model_module_version": "1.5.0",
       "_model_name": "HTMLModel",
       "_view_count": null,
       "_view_module": "@jupyter-widgets/controls",
       "_view_module_version": "1.5.0",
       "_view_name": "HTMLView",
       "description": "",
       "description_tooltip": null,
       "layout": "IPY_MODEL_f4001b55800042668f7bb973783506c0",
       "placeholder": "​",
       "style": "IPY_MODEL_db027fbc708d4a8cb74abce556962825",
       "value": " 121/121 [03:14&lt;00:00,  1.34s/it]"
      }
     },
     "a3aa1ce3f53a42fb828713956364c05d": {
      "model_module": "@jupyter-widgets/controls",
      "model_module_version": "1.5.0",
      "model_name": "FloatProgressModel",
      "state": {
       "_dom_classes": [],
       "_model_module": "@jupyter-widgets/controls",
       "_model_module_version": "1.5.0",
       "_model_name": "FloatProgressModel",
       "_view_count": null,
       "_view_module": "@jupyter-widgets/controls",
       "_view_module_version": "1.5.0",
       "_view_name": "ProgressView",
       "bar_style": "success",
       "description": "",
       "description_tooltip": null,
       "layout": "IPY_MODEL_4a47ab3a57d94fbea12843321bfc984a",
       "max": 1389353,
       "min": 0,
       "orientation": "horizontal",
       "style": "IPY_MODEL_39f572952a3b438fba5074188ea41140",
       "value": 1389353
      }
     },
     "b104fc53be58422aa9eb06a213f66056": {
      "model_module": "@jupyter-widgets/base",
      "model_module_version": "1.2.0",
      "model_name": "LayoutModel",
      "state": {
       "_model_module": "@jupyter-widgets/base",
       "_model_module_version": "1.2.0",
       "_model_name": "LayoutModel",
       "_view_count": null,
       "_view_module": "@jupyter-widgets/base",
       "_view_module_version": "1.2.0",
       "_view_name": "LayoutView",
       "align_content": null,
       "align_items": null,
       "align_self": null,
       "border": null,
       "bottom": null,
       "display": null,
       "flex": null,
       "flex_flow": null,
       "grid_area": null,
       "grid_auto_columns": null,
       "grid_auto_flow": null,
       "grid_auto_rows": null,
       "grid_column": null,
       "grid_gap": null,
       "grid_row": null,
       "grid_template_areas": null,
       "grid_template_columns": null,
       "grid_template_rows": null,
       "height": null,
       "justify_content": null,
       "justify_items": null,
       "left": null,
       "margin": null,
       "max_height": null,
       "max_width": null,
       "min_height": null,
       "min_width": null,
       "object_fit": null,
       "object_position": null,
       "order": null,
       "overflow": null,
       "overflow_x": null,
       "overflow_y": null,
       "padding": null,
       "right": null,
       "top": null,
       "visibility": null,
       "width": null
      }
     },
     "b1ae536fb9b44c54b310a0153663e387": {
      "model_module": "@jupyter-widgets/base",
      "model_module_version": "1.2.0",
      "model_name": "LayoutModel",
      "state": {
       "_model_module": "@jupyter-widgets/base",
       "_model_module_version": "1.2.0",
       "_model_name": "LayoutModel",
       "_view_count": null,
       "_view_module": "@jupyter-widgets/base",
       "_view_module_version": "1.2.0",
       "_view_name": "LayoutView",
       "align_content": null,
       "align_items": null,
       "align_self": null,
       "border": null,
       "bottom": null,
       "display": null,
       "flex": null,
       "flex_flow": null,
       "grid_area": null,
       "grid_auto_columns": null,
       "grid_auto_flow": null,
       "grid_auto_rows": null,
       "grid_column": null,
       "grid_gap": null,
       "grid_row": null,
       "grid_template_areas": null,
       "grid_template_columns": null,
       "grid_template_rows": null,
       "height": null,
       "justify_content": null,
       "justify_items": null,
       "left": null,
       "margin": null,
       "max_height": null,
       "max_width": null,
       "min_height": null,
       "min_width": null,
       "object_fit": null,
       "object_position": null,
       "order": null,
       "overflow": null,
       "overflow_x": null,
       "overflow_y": null,
       "padding": null,
       "right": null,
       "top": null,
       "visibility": null,
       "width": null
      }
     },
     "b9d14e7bfc92425ab03509c381a43c93": {
      "model_module": "@jupyter-widgets/controls",
      "model_module_version": "1.5.0",
      "model_name": "ProgressStyleModel",
      "state": {
       "_model_module": "@jupyter-widgets/controls",
       "_model_module_version": "1.5.0",
       "_model_name": "ProgressStyleModel",
       "_view_count": null,
       "_view_module": "@jupyter-widgets/base",
       "_view_module_version": "1.2.0",
       "_view_name": "StyleView",
       "bar_color": null,
       "description_width": ""
      }
     },
     "bd2747b507a740e784b2b6ee566ac5b0": {
      "model_module": "@jupyter-widgets/controls",
      "model_module_version": "1.5.0",
      "model_name": "HTMLModel",
      "state": {
       "_dom_classes": [],
       "_model_module": "@jupyter-widgets/controls",
       "_model_module_version": "1.5.0",
       "_model_name": "HTMLModel",
       "_view_count": null,
       "_view_module": "@jupyter-widgets/controls",
       "_view_module_version": "1.5.0",
       "_view_name": "HTMLView",
       "description": "",
       "description_tooltip": null,
       "layout": "IPY_MODEL_10c018c5ec734d7eabb7f7b255f02ec2",
       "placeholder": "​",
       "style": "IPY_MODEL_1214ae53d76a49bbb8d31ab343bb4b44",
       "value": "Downloading: 100%"
      }
     },
     "ca409f6ad58e4c8f86ad191163039be1": {
      "model_module": "@jupyter-widgets/controls",
      "model_module_version": "1.5.0",
      "model_name": "HBoxModel",
      "state": {
       "_dom_classes": [],
       "_model_module": "@jupyter-widgets/controls",
       "_model_module_version": "1.5.0",
       "_model_name": "HBoxModel",
       "_view_count": null,
       "_view_module": "@jupyter-widgets/controls",
       "_view_module_version": "1.5.0",
       "_view_name": "HBoxView",
       "box_style": "",
       "children": [
        "IPY_MODEL_351539aa363248f295f76567e6a12a74",
        "IPY_MODEL_cf737e726fc64ae0bdbccfe54346c4be",
        "IPY_MODEL_7ce99b2fe40d441ebf49526f2ce22067"
       ],
       "layout": "IPY_MODEL_7062a32e4f37457f82a130704b577610"
      }
     },
     "cc83bba544594a7b9608444f180a6010": {
      "model_module": "@jupyter-widgets/base",
      "model_module_version": "1.2.0",
      "model_name": "LayoutModel",
      "state": {
       "_model_module": "@jupyter-widgets/base",
       "_model_module_version": "1.2.0",
       "_model_name": "LayoutModel",
       "_view_count": null,
       "_view_module": "@jupyter-widgets/base",
       "_view_module_version": "1.2.0",
       "_view_name": "LayoutView",
       "align_content": null,
       "align_items": null,
       "align_self": null,
       "border": null,
       "bottom": null,
       "display": null,
       "flex": null,
       "flex_flow": null,
       "grid_area": null,
       "grid_auto_columns": null,
       "grid_auto_flow": null,
       "grid_auto_rows": null,
       "grid_column": null,
       "grid_gap": null,
       "grid_row": null,
       "grid_template_areas": null,
       "grid_template_columns": null,
       "grid_template_rows": null,
       "height": null,
       "justify_content": null,
       "justify_items": null,
       "left": null,
       "margin": null,
       "max_height": null,
       "max_width": null,
       "min_height": null,
       "min_width": null,
       "object_fit": null,
       "object_position": null,
       "order": null,
       "overflow": null,
       "overflow_x": null,
       "overflow_y": null,
       "padding": null,
       "right": null,
       "top": null,
       "visibility": null,
       "width": null
      }
     },
     "cf737e726fc64ae0bdbccfe54346c4be": {
      "model_module": "@jupyter-widgets/controls",
      "model_module_version": "1.5.0",
      "model_name": "FloatProgressModel",
      "state": {
       "_dom_classes": [],
       "_model_module": "@jupyter-widgets/controls",
       "_model_module_version": "1.5.0",
       "_model_name": "FloatProgressModel",
       "_view_count": null,
       "_view_module": "@jupyter-widgets/controls",
       "_view_module_version": "1.5.0",
       "_view_name": "ProgressView",
       "bar_style": "success",
       "description": "",
       "description_tooltip": null,
       "layout": "IPY_MODEL_cc83bba544594a7b9608444f180a6010",
       "max": 791656,
       "min": 0,
       "orientation": "horizontal",
       "style": "IPY_MODEL_898d690676ac4a9da5a57a9421442d0f",
       "value": 791656
      }
     },
     "db027fbc708d4a8cb74abce556962825": {
      "model_module": "@jupyter-widgets/controls",
      "model_module_version": "1.5.0",
      "model_name": "DescriptionStyleModel",
      "state": {
       "_model_module": "@jupyter-widgets/controls",
       "_model_module_version": "1.5.0",
       "_model_name": "DescriptionStyleModel",
       "_view_count": null,
       "_view_module": "@jupyter-widgets/base",
       "_view_module_version": "1.2.0",
       "_view_name": "StyleView",
       "description_width": ""
      }
     },
     "f4001b55800042668f7bb973783506c0": {
      "model_module": "@jupyter-widgets/base",
      "model_module_version": "1.2.0",
      "model_name": "LayoutModel",
      "state": {
       "_model_module": "@jupyter-widgets/base",
       "_model_module_version": "1.2.0",
       "_model_name": "LayoutModel",
       "_view_count": null,
       "_view_module": "@jupyter-widgets/base",
       "_view_module_version": "1.2.0",
       "_view_name": "LayoutView",
       "align_content": null,
       "align_items": null,
       "align_self": null,
       "border": null,
       "bottom": null,
       "display": null,
       "flex": null,
       "flex_flow": null,
       "grid_area": null,
       "grid_auto_columns": null,
       "grid_auto_flow": null,
       "grid_auto_rows": null,
       "grid_column": null,
       "grid_gap": null,
       "grid_row": null,
       "grid_template_areas": null,
       "grid_template_columns": null,
       "grid_template_rows": null,
       "height": null,
       "justify_content": null,
       "justify_items": null,
       "left": null,
       "margin": null,
       "max_height": null,
       "max_width": null,
       "min_height": null,
       "min_width": null,
       "object_fit": null,
       "object_position": null,
       "order": null,
       "overflow": null,
       "overflow_x": null,
       "overflow_y": null,
       "padding": null,
       "right": null,
       "top": null,
       "visibility": null,
       "width": null
      }
     },
     "f5a30e06ad5f43fa8e40a482e07cd215": {
      "model_module": "@jupyter-widgets/base",
      "model_module_version": "1.2.0",
      "model_name": "LayoutModel",
      "state": {
       "_model_module": "@jupyter-widgets/base",
       "_model_module_version": "1.2.0",
       "_model_name": "LayoutModel",
       "_view_count": null,
       "_view_module": "@jupyter-widgets/base",
       "_view_module_version": "1.2.0",
       "_view_name": "LayoutView",
       "align_content": null,
       "align_items": null,
       "align_self": null,
       "border": null,
       "bottom": null,
       "display": null,
       "flex": null,
       "flex_flow": null,
       "grid_area": null,
       "grid_auto_columns": null,
       "grid_auto_flow": null,
       "grid_auto_rows": null,
       "grid_column": null,
       "grid_gap": null,
       "grid_row": null,
       "grid_template_areas": null,
       "grid_template_columns": null,
       "grid_template_rows": null,
       "height": null,
       "justify_content": null,
       "justify_items": null,
       "left": null,
       "margin": null,
       "max_height": null,
       "max_width": null,
       "min_height": null,
       "min_width": null,
       "object_fit": null,
       "object_position": null,
       "order": null,
       "overflow": null,
       "overflow_x": null,
       "overflow_y": null,
       "padding": null,
       "right": null,
       "top": null,
       "visibility": null,
       "width": null
      }
     },
     "fb999217f46f46f6b27c7e64b302b3ac": {
      "model_module": "@jupyter-widgets/controls",
      "model_module_version": "1.5.0",
      "model_name": "DescriptionStyleModel",
      "state": {
       "_model_module": "@jupyter-widgets/controls",
       "_model_module_version": "1.5.0",
       "_model_name": "DescriptionStyleModel",
       "_view_count": null,
       "_view_module": "@jupyter-widgets/base",
       "_view_module_version": "1.2.0",
       "_view_name": "StyleView",
       "description_width": ""
      }
     },
     "fd69f7b25aa741f2be4e563ea8fe5935": {
      "model_module": "@jupyter-widgets/controls",
      "model_module_version": "1.5.0",
      "model_name": "DescriptionStyleModel",
      "state": {
       "_model_module": "@jupyter-widgets/controls",
       "_model_module_version": "1.5.0",
       "_model_name": "DescriptionStyleModel",
       "_view_count": null,
       "_view_module": "@jupyter-widgets/base",
       "_view_module_version": "1.2.0",
       "_view_name": "StyleView",
       "description_width": ""
      }
     }
    },
    "version_major": 2,
    "version_minor": 0
   }
  }
 },
 "nbformat": 4,
 "nbformat_minor": 5
}
