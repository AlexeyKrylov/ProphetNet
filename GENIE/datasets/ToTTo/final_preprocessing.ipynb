{
 "cells": [
  {
   "cell_type": "code",
   "execution_count": null,
   "id": "cc82b45c",
   "metadata": {},
   "outputs": [],
   "source": [
    "python -m preprocess_data_main --input_path=\"totto_train_data.jsonl\" --output_path=\"./train.jsonl\""
   ]
  },
  {
   "cell_type": "code",
   "execution_count": null,
   "id": "f131bdc6",
   "metadata": {},
   "outputs": [],
   "source": [
    "python -m preprocess_data_main --input_path=\"totto_dev_data.jsonl\" --output_path=\"./valid.jsonl\""
   ]
  },
  {
   "cell_type": "code",
   "execution_count": null,
   "id": "69860f81",
   "metadata": {},
   "outputs": [],
   "source": [
    "python -m preprocess_data_main --input_path=\"unlabeled_totto_test_data.jsonl\" --output_path=\"./test.jsonl\""
   ]
  },
  {
   "cell_type": "code",
   "execution_count": null,
   "id": "a11a49d4",
   "metadata": {
    "pycharm": {
     "is_executing": true
    }
   },
   "outputs": [],
   "source": [
    "import jsonlines\n",
    "\n",
    "\n",
    "\n",
    "with jsonlines.open('train.jsonl') as f:\n",
    "    for line in f.iter():\n",
    "        tmp = line\n",
    "        break\n"
   ]
  },
  {
   "cell_type": "code",
   "execution_count": 7,
   "id": "e55ce9ae",
   "metadata": {},
   "outputs": [
    {
     "data": {
      "text/plain": [
       "dict_keys(['table', 'table_webpage_url', 'table_page_title', 'table_section_title', 'table_section_text', 'highlighted_cells', 'example_id', 'sentence_annotations', 'full_table_str', 'subtable_str', 'full_table_metadata_str', 'subtable_metadata_str'])"
      ]
     },
     "execution_count": 7,
     "metadata": {},
     "output_type": "execute_result"
    }
   ],
   "source": [
    "tmp.keys()"
   ]
  },
  {
   "cell_type": "code",
   "execution_count": 19,
   "id": "85bb6a8e",
   "metadata": {},
   "outputs": [
    {
     "data": {
      "text/plain": [
       "'<page_title> List of 8/9 PM telenovelas of Rede Globo </page_title> <section_title> 2000s </section_title> <table> <cell> A Favorita <col_header> Title </col_header> </cell> </table>'"
      ]
     },
     "execution_count": 19,
     "metadata": {},
     "output_type": "execute_result"
    }
   ],
   "source": [
    "tmp['subtable_metadata_str']"
   ]
  },
  {
   "cell_type": "code",
   "execution_count": null,
   "id": "0962220e",
   "metadata": {},
   "outputs": [],
   "source": []
  }
 ],
 "metadata": {
  "kernelspec": {
   "display_name": "Python 3 (ipykernel)",
   "language": "python",
   "name": "python3"
  },
  "language_info": {
   "codemirror_mode": {
    "name": "ipython",
    "version": 3
   },
   "file_extension": ".py",
   "mimetype": "text/x-python",
   "name": "python",
   "nbconvert_exporter": "python",
   "pygments_lexer": "ipython3",
   "version": "3.10.9"
  }
 },
 "nbformat": 4,
 "nbformat_minor": 5
}
