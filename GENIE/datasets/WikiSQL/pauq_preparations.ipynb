{
 "cells": [
  {
   "cell_type": "code",
   "execution_count": 1,
   "metadata": {},
   "outputs": [
    {
     "name": "stderr",
     "output_type": "stream",
     "text": [
      "Found cached dataset wikisql (C:/Users/krilo/.cache/huggingface/datasets/wikisql/default/0.1.0/7037bfe6a42b1ca2b6ac3ccacba5253b1825d31379e9cc626fc79a620977252d)\n",
      "Found cached dataset wikisql (C:/Users/krilo/.cache/huggingface/datasets/wikisql/default/0.1.0/7037bfe6a42b1ca2b6ac3ccacba5253b1825d31379e9cc626fc79a620977252d)\n"
     ]
    }
   ],
   "source": [
    "import pandas as pd\n",
    "from collections import defaultdict\n",
    "from typing import DefaultDict\n",
    "from pathlib import Path\n",
    "import datasets as nlp\n",
    "import sys\n",
    "\n",
    "train_dataset  = nlp.load_dataset('wikisql', split=nlp.Split.TRAIN)\n",
    "valid_dataset = nlp.load_dataset('wikisql', split=nlp.Split.VALIDATION)"
   ]
  },
  {
   "cell_type": "code",
   "execution_count": 17,
   "metadata": {},
   "outputs": [],
   "source": [
    "train = pd.DataFrame(train_dataset)\n",
    "valid = pd.DataFrame(valid_dataset)"
   ]
  },
  {
   "cell_type": "code",
   "execution_count": 19,
   "metadata": {},
   "outputs": [
    {
     "data": {
      "text/html": [
       "<div>\n",
       "<style scoped>\n",
       "    .dataframe tbody tr th:only-of-type {\n",
       "        vertical-align: middle;\n",
       "    }\n",
       "\n",
       "    .dataframe tbody tr th {\n",
       "        vertical-align: top;\n",
       "    }\n",
       "\n",
       "    .dataframe thead th {\n",
       "        text-align: right;\n",
       "    }\n",
       "</style>\n",
       "<table border=\"1\" class=\"dataframe\">\n",
       "  <thead>\n",
       "    <tr style=\"text-align: right;\">\n",
       "      <th></th>\n",
       "      <th>table</th>\n",
       "      <th>sql</th>\n",
       "    </tr>\n",
       "  </thead>\n",
       "  <tbody>\n",
       "    <tr>\n",
       "      <th>0</th>\n",
       "      <td>{'header': ['Player', 'No.', 'Nationality', 'P...</td>\n",
       "      <td>{'human_readable': 'SELECT Position FROM table...</td>\n",
       "    </tr>\n",
       "    <tr>\n",
       "      <th>1</th>\n",
       "      <td>{'header': ['Player', 'No.', 'Nationality', 'P...</td>\n",
       "      <td>{'human_readable': 'SELECT COUNT School/Club T...</td>\n",
       "    </tr>\n",
       "    <tr>\n",
       "      <th>2</th>\n",
       "      <td>{'header': ['Player', 'No.', 'Nationality', 'P...</td>\n",
       "      <td>{'human_readable': 'SELECT School/Club Team FR...</td>\n",
       "    </tr>\n",
       "    <tr>\n",
       "      <th>3</th>\n",
       "      <td>{'header': ['Player', 'No.', 'Nationality', 'P...</td>\n",
       "      <td>{'human_readable': 'SELECT Player FROM table W...</td>\n",
       "    </tr>\n",
       "    <tr>\n",
       "      <th>4</th>\n",
       "      <td>{'header': ['Player', 'No.', 'Nationality', 'P...</td>\n",
       "      <td>{'human_readable': 'SELECT Player FROM table W...</td>\n",
       "    </tr>\n",
       "    <tr>\n",
       "      <th>...</th>\n",
       "      <td>...</td>\n",
       "      <td>...</td>\n",
       "    </tr>\n",
       "    <tr>\n",
       "      <th>8416</th>\n",
       "      <td>{'header': ['Date', 'Opponent', 'Score', 'Loss...</td>\n",
       "      <td>{'human_readable': 'SELECT Loss FROM table WHE...</td>\n",
       "    </tr>\n",
       "    <tr>\n",
       "      <th>8417</th>\n",
       "      <td>{'header': ['Date', 'Opponent', 'Score', 'Loss...</td>\n",
       "      <td>{'human_readable': 'SELECT MAX Attendance FROM...</td>\n",
       "    </tr>\n",
       "    <tr>\n",
       "      <th>8418</th>\n",
       "      <td>{'header': ['Representative', 'Years', 'State'...</td>\n",
       "      <td>{'human_readable': 'SELECT Party FROM table WH...</td>\n",
       "    </tr>\n",
       "    <tr>\n",
       "      <th>8419</th>\n",
       "      <td>{'header': ['Representative', 'Years', 'State'...</td>\n",
       "      <td>{'human_readable': 'SELECT State FROM table WH...</td>\n",
       "    </tr>\n",
       "    <tr>\n",
       "      <th>8420</th>\n",
       "      <td>{'header': ['Representative', 'Years', 'State'...</td>\n",
       "      <td>{'human_readable': 'SELECT Lifespan FROM table...</td>\n",
       "    </tr>\n",
       "  </tbody>\n",
       "</table>\n",
       "<p>8421 rows × 2 columns</p>\n",
       "</div>"
      ],
      "text/plain": [
       "                                                  table  \\\n",
       "0     {'header': ['Player', 'No.', 'Nationality', 'P...   \n",
       "1     {'header': ['Player', 'No.', 'Nationality', 'P...   \n",
       "2     {'header': ['Player', 'No.', 'Nationality', 'P...   \n",
       "3     {'header': ['Player', 'No.', 'Nationality', 'P...   \n",
       "4     {'header': ['Player', 'No.', 'Nationality', 'P...   \n",
       "...                                                 ...   \n",
       "8416  {'header': ['Date', 'Opponent', 'Score', 'Loss...   \n",
       "8417  {'header': ['Date', 'Opponent', 'Score', 'Loss...   \n",
       "8418  {'header': ['Representative', 'Years', 'State'...   \n",
       "8419  {'header': ['Representative', 'Years', 'State'...   \n",
       "8420  {'header': ['Representative', 'Years', 'State'...   \n",
       "\n",
       "                                                    sql  \n",
       "0     {'human_readable': 'SELECT Position FROM table...  \n",
       "1     {'human_readable': 'SELECT COUNT School/Club T...  \n",
       "2     {'human_readable': 'SELECT School/Club Team FR...  \n",
       "3     {'human_readable': 'SELECT Player FROM table W...  \n",
       "4     {'human_readable': 'SELECT Player FROM table W...  \n",
       "...                                                 ...  \n",
       "8416  {'human_readable': 'SELECT Loss FROM table WHE...  \n",
       "8417  {'human_readable': 'SELECT MAX Attendance FROM...  \n",
       "8418  {'human_readable': 'SELECT Party FROM table WH...  \n",
       "8419  {'human_readable': 'SELECT State FROM table WH...  \n",
       "8420  {'human_readable': 'SELECT Lifespan FROM table...  \n",
       "\n",
       "[8421 rows x 2 columns]"
      ]
     },
     "execution_count": 19,
     "metadata": {},
     "output_type": "execute_result"
    }
   ],
   "source": [
    "valid[[\"table\", \"sql\"]]"
   ]
  },
  {
   "cell_type": "code",
   "execution_count": 21,
   "metadata": {},
   "outputs": [
    {
     "data": {
      "text/plain": [
       "array([{'header': ['Player', 'No.', 'Nationality', 'Position', 'Years in Toronto', 'School/Club Team'], 'page_title': 'Toronto Raptors all-time roster', 'page_id': '', 'types': ['text', 'text', 'text', 'text', 'text', 'text'], 'id': '1-10015132-11', 'section_title': 'L', 'caption': 'L', 'rows': [['Antonio Lang', '21', 'United States', 'Guard-Forward', '1999-2000', 'Duke'], ['Voshon Lenard', '2', 'United States', 'Guard', '2002-03', 'Minnesota'], ['Martin Lewis', '32, 44', 'United States', 'Guard-Forward', '1996-97', 'Butler CC (KS)'], ['Brad Lohaus', '33', 'United States', 'Forward-Center', '1996', 'Iowa'], ['Art Long', '42', 'United States', 'Forward-Center', '2002-03', 'Cincinnati'], ['John Long', '25', 'United States', 'Guard', '1996-97', 'Detroit'], ['Kyle Lowry', '3', 'United States', 'Guard', '2012-Present', 'Villanova']], 'name': 'table_10015132_11'}],\n",
       "      dtype=object)"
      ]
     },
     "execution_count": 21,
     "metadata": {},
     "output_type": "execute_result"
    }
   ],
   "source": [
    "valid[[\"table\"]].iloc[1].values"
   ]
  },
  {
   "cell_type": "code",
   "execution_count": 3,
   "metadata": {},
   "outputs": [],
   "source": [
    "def get_schema(x):\n",
    "    return \", \".join(train_dataset[0]['table']['header'])\n",
    "\n",
    "\n",
    "def process_splits(data: pd.DataFrame) -> pd.DataFrame:\n",
    "    data.loc[:, \"query\"] = data.apply(lambda x: x[\"sql\"]['human_readable'], axis=1)\n",
    "    data.loc[:, 'query_schema'] = data.apply(lambda x: get_schema(x), axis=1)\n",
    "    data.loc[:, \"question\"] = data.apply(lambda x: f'{x[\"question\"]} | {x[\"query_schema\"]}'.replace('  ', ' '), axis=1)\n",
    "    data = data.drop(columns=[\"phase\", \"table\", \"query_schema\", \"sql\"], axis=1)\n",
    "    return data"
   ]
  },
  {
   "cell_type": "code",
   "execution_count": 4,
   "metadata": {},
   "outputs": [],
   "source": [
    "prepared_pauq_train = process_splits(train)\n",
    "prepared_pauq_valid = process_splits(valid)"
   ]
  },
  {
   "cell_type": "code",
   "execution_count": 5,
   "metadata": {},
   "outputs": [
    {
     "data": {
      "text/html": [
       "<div>\n",
       "<style scoped>\n",
       "    .dataframe tbody tr th:only-of-type {\n",
       "        vertical-align: middle;\n",
       "    }\n",
       "\n",
       "    .dataframe tbody tr th {\n",
       "        vertical-align: top;\n",
       "    }\n",
       "\n",
       "    .dataframe thead th {\n",
       "        text-align: right;\n",
       "    }\n",
       "</style>\n",
       "<table border=\"1\" class=\"dataframe\">\n",
       "  <thead>\n",
       "    <tr style=\"text-align: right;\">\n",
       "      <th></th>\n",
       "      <th>question</th>\n",
       "      <th>query</th>\n",
       "    </tr>\n",
       "  </thead>\n",
       "  <tbody>\n",
       "    <tr>\n",
       "      <th>0</th>\n",
       "      <td>Tell me what the notes are for South Australia...</td>\n",
       "      <td>SELECT Notes FROM table WHERE Current slogan =...</td>\n",
       "    </tr>\n",
       "    <tr>\n",
       "      <th>1</th>\n",
       "      <td>What is the current series where the new serie...</td>\n",
       "      <td>SELECT Current series FROM table WHERE Notes =...</td>\n",
       "    </tr>\n",
       "    <tr>\n",
       "      <th>2</th>\n",
       "      <td>What is the format for South Australia? | Stat...</td>\n",
       "      <td>SELECT Format FROM table WHERE State/territory...</td>\n",
       "    </tr>\n",
       "    <tr>\n",
       "      <th>3</th>\n",
       "      <td>Name the background colour for the Australian ...</td>\n",
       "      <td>SELECT Text/background colour FROM table WHERE...</td>\n",
       "    </tr>\n",
       "    <tr>\n",
       "      <th>4</th>\n",
       "      <td>how many times is the fuel propulsion is cng? ...</td>\n",
       "      <td>SELECT COUNT Fleet Series (Quantity) FROM tabl...</td>\n",
       "    </tr>\n",
       "    <tr>\n",
       "      <th>...</th>\n",
       "      <td>...</td>\n",
       "      <td>...</td>\n",
       "    </tr>\n",
       "    <tr>\n",
       "      <th>56350</th>\n",
       "      <td>What time was the match played with a score of...</td>\n",
       "      <td>SELECT Time FROM table WHERE Score = 3-2</td>\n",
       "    </tr>\n",
       "    <tr>\n",
       "      <th>56351</th>\n",
       "      <td>On which ground did the team play Aston Villa?...</td>\n",
       "      <td>SELECT Ground FROM table WHERE Opponent = asto...</td>\n",
       "    </tr>\n",
       "    <tr>\n",
       "      <th>56352</th>\n",
       "      <td>What kind of competition was it at San Siro at...</td>\n",
       "      <td>SELECT Competition FROM table WHERE Ground = s...</td>\n",
       "    </tr>\n",
       "    <tr>\n",
       "      <th>56353</th>\n",
       "      <td>What is the total number of decile for the red...</td>\n",
       "      <td>SELECT COUNT Decile FROM table WHERE Name = re...</td>\n",
       "    </tr>\n",
       "    <tr>\n",
       "      <th>56354</th>\n",
       "      <td>Which report includes a Circuit of Tripoli? | ...</td>\n",
       "      <td>SELECT Report FROM table WHERE Circuit = tripoli</td>\n",
       "    </tr>\n",
       "  </tbody>\n",
       "</table>\n",
       "<p>56355 rows × 2 columns</p>\n",
       "</div>"
      ],
      "text/plain": [
       "                                                question  \\\n",
       "0      Tell me what the notes are for South Australia...   \n",
       "1      What is the current series where the new serie...   \n",
       "2      What is the format for South Australia? | Stat...   \n",
       "3      Name the background colour for the Australian ...   \n",
       "4      how many times is the fuel propulsion is cng? ...   \n",
       "...                                                  ...   \n",
       "56350  What time was the match played with a score of...   \n",
       "56351  On which ground did the team play Aston Villa?...   \n",
       "56352  What kind of competition was it at San Siro at...   \n",
       "56353  What is the total number of decile for the red...   \n",
       "56354  Which report includes a Circuit of Tripoli? | ...   \n",
       "\n",
       "                                                   query  \n",
       "0      SELECT Notes FROM table WHERE Current slogan =...  \n",
       "1      SELECT Current series FROM table WHERE Notes =...  \n",
       "2      SELECT Format FROM table WHERE State/territory...  \n",
       "3      SELECT Text/background colour FROM table WHERE...  \n",
       "4      SELECT COUNT Fleet Series (Quantity) FROM tabl...  \n",
       "...                                                  ...  \n",
       "56350           SELECT Time FROM table WHERE Score = 3-2  \n",
       "56351  SELECT Ground FROM table WHERE Opponent = asto...  \n",
       "56352  SELECT Competition FROM table WHERE Ground = s...  \n",
       "56353  SELECT COUNT Decile FROM table WHERE Name = re...  \n",
       "56354   SELECT Report FROM table WHERE Circuit = tripoli  \n",
       "\n",
       "[56355 rows x 2 columns]"
      ]
     },
     "execution_count": 5,
     "metadata": {},
     "output_type": "execute_result"
    }
   ],
   "source": [
    "prepared_pauq_train"
   ]
  },
  {
   "cell_type": "code",
   "execution_count": 6,
   "metadata": {},
   "outputs": [],
   "source": [
    "import numpy as np\n",
    "m = []\n",
    "for i, j in prepared_pauq_train.to_records(index=False):\n",
    "    tmp = (len(i.split()), len(j.split()))\n",
    "    m.append(tmp)\n",
    "m = np.array(m)"
   ]
  },
  {
   "cell_type": "code",
   "execution_count": 11,
   "metadata": {},
   "outputs": [
    {
     "data": {
      "text/plain": [
       "rec.array([('Tell me what the notes are for South Australia | State/territory, Text/background colour, Format, Current slogan, Current series, Notes', 'SELECT Notes FROM table WHERE Current slogan = SOUTH AUSTRALIA'),\n",
       "           ('What is the current series where the new series began in June 2011? | State/territory, Text/background colour, Format, Current slogan, Current series, Notes', 'SELECT Current series FROM table WHERE Notes = New series began in June 2011'),\n",
       "           ('What is the format for South Australia? | State/territory, Text/background colour, Format, Current slogan, Current series, Notes', 'SELECT Format FROM table WHERE State/territory = South Australia'),\n",
       "           ...,\n",
       "           ('What kind of competition was it at San Siro at 18:30 GMT? | State/territory, Text/background colour, Format, Current slogan, Current series, Notes', 'SELECT Competition FROM table WHERE Ground = san siro AND Time = 18:30 gmt'),\n",
       "           ('What is the total number of decile for the redwood school locality? | State/territory, Text/background colour, Format, Current slogan, Current series, Notes', 'SELECT COUNT Decile FROM table WHERE Name = redwood school'),\n",
       "           ('Which report includes a Circuit of Tripoli? | State/territory, Text/background colour, Format, Current slogan, Current series, Notes', 'SELECT Report FROM table WHERE Circuit = tripoli')],\n",
       "          dtype=[('question', 'O'), ('query', 'O')])"
      ]
     },
     "execution_count": 11,
     "metadata": {},
     "output_type": "execute_result"
    }
   ],
   "source": [
    "prepared_pauq_train.to_records(index=False)"
   ]
  },
  {
   "cell_type": "code",
   "execution_count": 13,
   "metadata": {},
   "outputs": [
    {
     "name": "stdout",
     "output_type": "stream",
     "text": [
      "{'src': 'Tell me what the notes are for South Australia | State/territory, Text/background colour, Format, Current slogan, Current series, Notes', 'trg': 'SELECT Notes FROM table WHERE Current slogan = SOUTH AUSTRALIA'}\n"
     ]
    }
   ],
   "source": [
    "for i, j in prepared_pauq_train.to_records(index=False):\n",
    "    d = dict()\n",
    "    d['src'] = i.strip()\n",
    "    d['trg'] = j.strip()\n",
    "    print(d)\n",
    "    break"
   ]
  },
  {
   "cell_type": "code",
   "execution_count": 14,
   "metadata": {},
   "outputs": [],
   "source": [
    "import json\n",
    "\n",
    "def json2jsonl(df, writename):\n",
    "    with open(writename, 'w', encoding='utf8') as f:\n",
    "        for i, j in df.to_records(index=False):\n",
    "            d = dict()\n",
    "            d['src'] = i.strip()\n",
    "            d['trg'] = j.strip()\n",
    "            json.dump(d, f)\n",
    "            f.write('\\n')"
   ]
  },
  {
   "cell_type": "code",
   "execution_count": 15,
   "metadata": {},
   "outputs": [],
   "source": [
    "json2jsonl(prepared_pauq_train, \"train.jsonl\")"
   ]
  },
  {
   "cell_type": "code",
   "execution_count": 16,
   "metadata": {},
   "outputs": [],
   "source": [
    "json2jsonl(prepared_pauq_valid, \"valid.jsonl\")"
   ]
  },
  {
   "cell_type": "code",
   "execution_count": null,
   "metadata": {},
   "outputs": [],
   "source": []
  }
 ],
 "metadata": {
  "kernelspec": {
   "display_name": "Python 3 (ipykernel)",
   "language": "python",
   "name": "python3"
  },
  "language_info": {
   "codemirror_mode": {
    "name": "ipython",
    "version": 3
   },
   "file_extension": ".py",
   "mimetype": "text/x-python",
   "name": "python",
   "nbconvert_exporter": "python",
   "pygments_lexer": "ipython3",
   "version": "3.10.9"
  }
 },
 "nbformat": 4,
 "nbformat_minor": 2
}
